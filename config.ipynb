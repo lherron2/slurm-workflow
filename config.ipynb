{
 "cells": [
  {
   "cell_type": "markdown",
   "id": "c3648648",
   "metadata": {},
   "source": [
    "### ConfigParser Example"
   ]
  },
  {
   "cell_type": "code",
   "execution_count": 1,
   "id": "e8a97420",
   "metadata": {},
   "outputs": [],
   "source": [
    "from slurmflow.config import ConfigParser\n",
    "from pprint import pprint as print\n",
    "import argparse\n"
   ]
  },
  {
   "cell_type": "markdown",
   "id": "6526eb35",
   "metadata": {},
   "source": [
    "The `config` module of `slurmflow` contains the `ConfigParser` class, which extends the YAML file format to support string substitution."
   ]
  },
  {
   "cell_type": "code",
   "execution_count": 2,
   "id": "7c459706",
   "metadata": {},
   "outputs": [],
   "source": [
    "cfg = ConfigParser(\"config/example.yml\")"
   ]
  },
  {
   "cell_type": "markdown",
   "id": "14d8596c",
   "metadata": {},
   "source": [
    "YAML files store key-value pairs in a hierarchical format using headers. The structure of a YAML file is equivalent to a nested dict."
   ]
  },
  {
   "cell_type": "code",
   "execution_count": 3,
   "id": "c2f06fb3",
   "metadata": {},
   "outputs": [
    {
     "name": "stdout",
     "output_type": "stream",
     "text": [
      "{'params': {'batch_size': 8, 'dim': 64, 'learning_rate': 0.001},\n",
      " 'paths': {'data': '{{paths.mnt}}/data',\n",
      "           'mnt': '/path/to/mount/dir',\n",
      "           'models': '{{paths.data}}/bs={{params.batch_size}}_lr={{params.learning_rate}}_dim={{params.dim}}'}}\n"
     ]
    }
   ],
   "source": [
    "print(cfg.config_data)"
   ]
  },
  {
   "cell_type": "markdown",
   "id": "2b6b978e",
   "metadata": {},
   "source": [
    "Notice that some values contain double curly braces `{{ }}`. The `ConfigParser` class introduces `{{ }}` as a new syntactical element to the YAML file format. Paths to other entries of the YAML file can be referenced within the curly braces as `path.to.key` (for example `{{paths.data}}` in the cell below)."
   ]
  },
  {
   "cell_type": "code",
   "execution_count": 4,
   "id": "ad72c170",
   "metadata": {},
   "outputs": [
    {
     "data": {
      "text/plain": [
       "'{{paths.data}}/bs={{params.batch_size}}_lr={{params.learning_rate}}_dim={{params.dim}}'"
      ]
     },
     "execution_count": 4,
     "metadata": {},
     "output_type": "execute_result"
    }
   ],
   "source": [
    "cfg.config_data['paths']['models']"
   ]
  },
  {
   "cell_type": "markdown",
   "id": "1352e4d3",
   "metadata": {},
   "source": [
    "The string substitutions are evaluated across the entire YAML file by the `compile` method of the `ConfigParser`."
   ]
  },
  {
   "cell_type": "code",
   "execution_count": 5,
   "id": "36a6612e",
   "metadata": {},
   "outputs": [
    {
     "data": {
      "text/plain": [
       "{'params.batch_size': 8,\n",
       " 'params.learning_rate': 0.001,\n",
       " 'params.dim': 64,\n",
       " 'paths.mnt': '/path/to/mount/dir',\n",
       " 'paths.data': '/path/to/mount/dir/data',\n",
       " 'paths.models': '/path/to/mount/dir/data/bs=8_lr=0.001_dim=64'}"
      ]
     },
     "execution_count": 5,
     "metadata": {},
     "output_type": "execute_result"
    }
   ],
   "source": [
    "cfg.compile()"
   ]
  },
  {
   "cell_type": "markdown",
   "id": "c1e22622",
   "metadata": {},
   "source": [
    "The `as_args` flag returns the compiled contents in the form of a `Namespace` &agrave; la `argparse`"
   ]
  },
  {
   "cell_type": "code",
   "execution_count": 6,
   "id": "74df6cce",
   "metadata": {},
   "outputs": [
    {
     "name": "stdout",
     "output_type": "stream",
     "text": [
      "'args.params.dim=64'\n",
      "\"args.paths.models='/path/to/mount/dir/data/bs=8_lr=0.001_dim=64'\"\n"
     ]
    }
   ],
   "source": [
    "args = cfg.compile(as_args=True)\n",
    "print(f\"{args.params.dim=}\")\n",
    "print(f\"{args.paths.models=}\")"
   ]
  },
  {
   "cell_type": "markdown",
   "id": "e8fb17c5",
   "metadata": {},
   "source": [
    "The `leaves` flag compiles the config file without including information about headers in the output. This is useful for integration with `argparse`, since `argparse` namespaces are not hierarchical."
   ]
  },
  {
   "cell_type": "code",
   "execution_count": 7,
   "id": "7c528749",
   "metadata": {},
   "outputs": [
    {
     "name": "stdout",
     "output_type": "stream",
     "text": [
      "'args.dim=64'\n",
      "\"args.models='/path/to/mount/dir/data/bs=8_lr=0.001_dim=64'\"\n"
     ]
    }
   ],
   "source": [
    "args = cfg.compile(leaves=True, as_args=True)\n",
    "print(f\"{args.dim=}\")\n",
    "print(f\"{args.models=}\")"
   ]
  },
  {
   "cell_type": "code",
   "execution_count": 14,
   "id": "08f3271f",
   "metadata": {},
   "outputs": [
    {
     "name": "stdout",
     "output_type": "stream",
     "text": [
      "Namespace(dim=32, batch=8)\n"
     ]
    }
   ],
   "source": [
    "# Initialize an example Namespace\n",
    "namespace = argparse.Namespace(dim=32, batch=8)\n",
    "print(namespace)"
   ]
  },
  {
   "cell_type": "code",
   "execution_count": 18,
   "id": "86934b53",
   "metadata": {},
   "outputs": [
    {
     "name": "stdout",
     "output_type": "stream",
     "text": [
      "Namespace(dim=64, batch=8, batch_size=32, learning_rate=0.001, mnt='/path/to/mount/dir', data='/path/to/mount/dir/data', models='/path/to/mount/dir/data/bs=32_lr=0.001_dim=64')\n"
     ]
    }
   ],
   "source": [
    "# Override the Namespace entries with the contents of the config\n",
    "namespace.__dict__.update(cfg.compile(leaves=True))\n",
    "print(namespace)"
   ]
  },
  {
   "cell_type": "markdown",
   "id": "515b70d5",
   "metadata": {},
   "source": [
    "Or the string substitutions can be evaluated for a single entry using the `get` method:"
   ]
  },
  {
   "cell_type": "code",
   "execution_count": 10,
   "id": "84dc0c9c",
   "metadata": {},
   "outputs": [
    {
     "data": {
      "text/plain": [
       "'/path/to/mount/dir/data/bs=8_lr=0.001_dim=64'"
      ]
     },
     "execution_count": 10,
     "metadata": {},
     "output_type": "execute_result"
    }
   ],
   "source": [
    "cfg.get('paths.models')"
   ]
  },
  {
   "cell_type": "markdown",
   "id": "4dabe6a6",
   "metadata": {},
   "source": [
    "Entries of the `ConfigParser` can be modified in-memory using the `set` method. Note that `compile` must be called for the changes to take effect."
   ]
  },
  {
   "cell_type": "code",
   "execution_count": 11,
   "id": "8c2123d3",
   "metadata": {},
   "outputs": [
    {
     "data": {
      "text/plain": [
       "{'params.batch_size': 32,\n",
       " 'params.learning_rate': 0.001,\n",
       " 'params.dim': 64,\n",
       " 'paths.mnt': '/path/to/mount/dir',\n",
       " 'paths.data': '/path/to/mount/dir/data',\n",
       " 'paths.models': '/path/to/mount/dir/data/bs=32_lr=0.001_dim=64'}"
      ]
     },
     "execution_count": 11,
     "metadata": {},
     "output_type": "execute_result"
    }
   ],
   "source": [
    "cfg.set('params.batch_size', 32)\n",
    "cfg.compile()"
   ]
  },
  {
   "cell_type": "code",
   "execution_count": null,
   "id": "867772f2",
   "metadata": {},
   "outputs": [],
   "source": []
  }
 ],
 "metadata": {
  "kernelspec": {
   "display_name": "Python 3 (ipykernel)",
   "language": "python",
   "name": "python3"
  },
  "language_info": {
   "codemirror_mode": {
    "name": "ipython",
    "version": 3
   },
   "file_extension": ".py",
   "mimetype": "text/x-python",
   "name": "python",
   "nbconvert_exporter": "python",
   "pygments_lexer": "ipython3",
   "version": "3.9.13"
  }
 },
 "nbformat": 4,
 "nbformat_minor": 5
}
