{
 "cells": [
  {
   "cell_type": "markdown",
   "id": "887e0085",
   "metadata": {},
   "source": [
    "### SlurmDriver Example"
   ]
  },
  {
   "cell_type": "code",
   "execution_count": 26,
   "id": "eea10330",
   "metadata": {},
   "outputs": [],
   "source": [
    "from slurmflow.driver import SlurmDriver\n",
    "from slurmflow.config import ConfigParser\n",
    "from os.path import abspath"
   ]
  },
  {
   "cell_type": "markdown",
   "id": "6cc7f200",
   "metadata": {},
   "source": [
    "The `SlurmDriver` class is capable of interfacting with the __S__imple __L__inux __U__tility for __R__esource __M__anagement. `SlurmDriver` can submit jobs and monitor the queue. \n",
    "\n",
    "First we will load a configuration for the `SlurmDriver` using the `ConfigParser` (see `config.ipynb`)"
   ]
  },
  {
   "cell_type": "code",
   "execution_count": 27,
   "id": "778a0ba0",
   "metadata": {},
   "outputs": [
    {
     "data": {
      "text/plain": [
       "{'partition': 'standard',\n",
       " 'time': '01:00:00',\n",
       " 'nodes': 1,\n",
       " 'tasks-per-node': 1,\n",
       " 'output_dir': './logs'}"
      ]
     },
     "execution_count": 27,
     "metadata": {},
     "output_type": "execute_result"
    }
   ],
   "source": [
    "cfg = ConfigParser('config/slurm.yml')\n",
    "cfg.compile()"
   ]
  },
  {
   "cell_type": "markdown",
   "id": "c07f9f4a",
   "metadata": {},
   "source": [
    "Note that relative paths are used in the configuration file. SLURM prefers absolute paths, so we will use the `get` and `set` methods of the `ConfigParser` to set `output_dir` to its absolute path."
   ]
  },
  {
   "cell_type": "code",
   "execution_count": 28,
   "id": "ad04c4a8",
   "metadata": {},
   "outputs": [
    {
     "data": {
      "text/plain": [
       "{'partition': 'standard',\n",
       " 'time': '01:00:00',\n",
       " 'nodes': 1,\n",
       " 'tasks-per-node': 1,\n",
       " 'output_dir': '/Users/lukasherron/Documents/GitHub/slurm-flow/logs'}"
      ]
     },
     "execution_count": 28,
     "metadata": {},
     "output_type": "execute_result"
    }
   ],
   "source": [
    "cfg.set('output_dir', abspath(cfg.get('output_dir')))\n",
    "cfg.compile()"
   ]
  },
  {
   "cell_type": "markdown",
   "id": "4643394b",
   "metadata": {},
   "source": [
    "The config is also missing the `job_name` SBATCH directive. We will set it in-memory as well."
   ]
  },
  {
   "cell_type": "code",
   "execution_count": 29,
   "id": "a3664965",
   "metadata": {},
   "outputs": [
    {
     "data": {
      "text/plain": [
       "{'partition': 'standard',\n",
       " 'time': '01:00:00',\n",
       " 'nodes': 1,\n",
       " 'tasks-per-node': 1,\n",
       " 'output_dir': '/Users/lukasherron/Documents/GitHub/slurm-flow/logs',\n",
       " 'job_name': 'hello_world'}"
      ]
     },
     "execution_count": 29,
     "metadata": {},
     "output_type": "execute_result"
    }
   ],
   "source": [
    "cfg.set(\"job_name\", \"hello_world\")\n",
    "cfg.compile()"
   ]
  },
  {
   "cell_type": "markdown",
   "id": "a6fd0587",
   "metadata": {},
   "source": [
    "As you can probably guess, the submitted command will be `python -c print(\"Hello World!\")`"
   ]
  },
  {
   "cell_type": "code",
   "execution_count": 30,
   "id": "609a644c",
   "metadata": {},
   "outputs": [],
   "source": [
    "cmd='python -c print(\"Hello World!\")'"
   ]
  },
  {
   "cell_type": "code",
   "execution_count": null,
   "id": "93980540",
   "metadata": {},
   "outputs": [],
   "source": [
    "driver = SlurmDriver()\n",
    "driver.submit_job(cmd, \n",
    "                  slurm_args=cfg.compile(),\n",
    "                  env='', # optionally provide the name of a conda or mamba env (see venv kwarg).\n",
    "                  modules=[] # optionally provide modules to load\n",
    "                  track=True # add jobid to the registry\n",
    "                 ) "
   ]
  }
 ],
 "metadata": {
  "kernelspec": {
   "display_name": "Python 3 (ipykernel)",
   "language": "python",
   "name": "python3"
  },
  "language_info": {
   "codemirror_mode": {
    "name": "ipython",
    "version": 3
   },
   "file_extension": ".py",
   "mimetype": "text/x-python",
   "name": "python",
   "nbconvert_exporter": "python",
   "pygments_lexer": "ipython3",
   "version": "3.9.13"
  }
 },
 "nbformat": 4,
 "nbformat_minor": 5
}
