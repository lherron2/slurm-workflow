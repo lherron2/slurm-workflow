{
 "cells": [
  {
   "cell_type": "markdown",
   "id": "887e0085",
   "metadata": {},
   "source": [
    "### SlurmDriver Example"
   ]
  },
  {
   "cell_type": "code",
   "execution_count": 1,
   "id": "eea10330",
   "metadata": {},
   "outputs": [],
   "source": [
    "from slurmflow.driver import SlurmDriver\n",
    "from slurmflow.config import ConfigParser\n",
    "from os.path import abspath"
   ]
  },
  {
   "cell_type": "markdown",
   "id": "6cc7f200",
   "metadata": {},
   "source": [
    "The `SlurmDriver` class is capable of interfacting with the __S__imple __L__inux __U__tility for __R__esource __M__anagement. `SlurmDriver` can submit jobs and monitor the queue. \n",
    "\n",
    "First we will load a configuration for the `SlurmDriver` using the `ConfigParser` (see `config.ipynb`)"
   ]
  },
  {
   "cell_type": "code",
   "execution_count": 2,
   "id": "778a0ba0",
   "metadata": {},
   "outputs": [
    {
     "data": {
      "text/plain": [
       "{'partition': 'standard',\n",
       " 'time': '01:00:00',\n",
       " 'nodes': 1,\n",
       " 'output_dir': './logs'}"
      ]
     },
     "execution_count": 2,
     "metadata": {},
     "output_type": "execute_result"
    }
   ],
   "source": [
    "cfg = ConfigParser('config/slurm.yml')\n",
    "cfg.compile()"
   ]
  },
  {
   "cell_type": "markdown",
   "id": "c07f9f4a",
   "metadata": {},
   "source": [
    "Note that relative paths are used in the configuration file. SLURM prefers absolute paths, so we will use the `get` and `set` methods of the `ConfigParser` to set `output_dir` to its absolute path."
   ]
  },
  {
   "cell_type": "code",
   "execution_count": 3,
   "id": "ad04c4a8",
   "metadata": {},
   "outputs": [
    {
     "data": {
      "text/plain": [
       "{'partition': 'standard',\n",
       " 'time': '01:00:00',\n",
       " 'nodes': 1,\n",
       " 'output_dir': '/scratch/zt1/project/tiwary-prj/user/lherron/repos/slurm-flow/logs'}"
      ]
     },
     "execution_count": 3,
     "metadata": {},
     "output_type": "execute_result"
    }
   ],
   "source": [
    "cfg.set('output_dir', abspath(cfg.get('output_dir')))\n",
    "cfg.compile()"
   ]
  },
  {
   "cell_type": "markdown",
   "id": "4643394b",
   "metadata": {},
   "source": [
    "The config is also missing the `job_name` SBATCH directive. We will set it in-memory as well."
   ]
  },
  {
   "cell_type": "code",
   "execution_count": 4,
   "id": "a3664965",
   "metadata": {},
   "outputs": [
    {
     "data": {
      "text/plain": [
       "{'partition': 'standard',\n",
       " 'time': '01:00:00',\n",
       " 'nodes': 1,\n",
       " 'output_dir': '/scratch/zt1/project/tiwary-prj/user/lherron/repos/slurm-flow/logs',\n",
       " 'job_name': 'hello_world'}"
      ]
     },
     "execution_count": 4,
     "metadata": {},
     "output_type": "execute_result"
    }
   ],
   "source": [
    "cfg.set(\"job_name\", \"hello_world\")\n",
    "cfg.compile()"
   ]
  },
  {
   "cell_type": "markdown",
   "id": "a6fd0587",
   "metadata": {},
   "source": [
    "As you can probably guess, the submitted command will be `python -c print(\"Hello World!\")`"
   ]
  },
  {
   "cell_type": "code",
   "execution_count": 19,
   "id": "609a644c",
   "metadata": {},
   "outputs": [],
   "source": [
    "cmd='python -c \"print(\\\\\"Hello World!\\\\\")\"'"
   ]
  },
  {
   "cell_type": "code",
   "execution_count": 45,
   "id": "93980540",
   "metadata": {},
   "outputs": [
    {
     "name": "stderr",
     "output_type": "stream",
     "text": [
      "slurmflow - INFO - ['#!/bin/bash', '#SBATCH --partition=standard\\n#SBATCH --ntasks=1\\n#SBATCH --cpus-per-task=1\\n#SBATCH --mem=8G\\n#SBATCH --time=01:00:00\\n#SBATCH --job-name=hello_world\\n#SBATCH --nodes=1\\n#SBATCH --output=/scratch/zt1/project/tiwary-prj/user/lherron/repos/slurm-flow/logs/slurm_hello_world.out\\n#SBATCH --error=/scratch/zt1/project/tiwary-prj/user/lherron/repos/slurm-flow/logs/slurm_hello_world.err', 'source $MAMBA_ROOT_PREFIX/etc/profile.d/micromamba.sh', 'micromamba activate slurmflow', 'module load cuda/11.8.0', 'python -c \"print(\\\\\"Hello World!\\\\\")\"']\n"
     ]
    },
    {
     "data": {
      "text/plain": [
       "'4741031'"
      ]
     },
     "execution_count": 45,
     "metadata": {},
     "output_type": "execute_result"
    }
   ],
   "source": [
    "driver = SlurmDriver(verbose=True)\n",
    "driver.submit_job(cmd, \n",
    "                  slurm_args=cfg.compile(),\n",
    "                  env='slurmflow', # optionally provide the name of a conda or mamba env (see venv kwarg).\n",
    "                  modules=['cuda/11.8.0'],\n",
    "                  track=True # add jobid to the registry\n",
    "                 ) "
   ]
  },
  {
   "cell_type": "code",
   "execution_count": 42,
   "id": "32e79767-40f4-4e8d-846e-5caa80ffa58d",
   "metadata": {},
   "outputs": [],
   "source": [
    "import importlib\n",
    "import slurmflow\n",
    "importlib.reload(slurmflow)\n",
    "\n",
    "import slurmflow.driver\n",
    "# import slurmflow.serializer\n",
    "import slurmflow.config\n",
    "importlib.reload(slurmflow.driver)\n",
    "\n",
    "# importlib.reload(slurmflow.serializer)\n",
    "importlib.reload(slurmflow.config)\n",
    "\n",
    "from slurmflow.driver import SlurmDriver"
   ]
  },
  {
   "cell_type": "code",
   "execution_count": null,
   "id": "6a23708f-23d4-4d9c-9bde-cec774630ef5",
   "metadata": {},
   "outputs": [],
   "source": []
  }
 ],
 "metadata": {
  "kernelspec": {
   "display_name": "Python 3 (ipykernel)",
   "language": "python",
   "name": "python3"
  },
  "language_info": {
   "codemirror_mode": {
    "name": "ipython",
    "version": 3
   },
   "file_extension": ".py",
   "mimetype": "text/x-python",
   "name": "python",
   "nbconvert_exporter": "python",
   "pygments_lexer": "ipython3",
   "version": "3.10.13"
  }
 },
 "nbformat": 4,
 "nbformat_minor": 5
}
